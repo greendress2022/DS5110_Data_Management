{
  "nbformat": 4,
  "nbformat_minor": 0,
  "metadata": {
    "colab": {
      "provenance": []
    },
    "kernelspec": {
      "name": "python3",
      "display_name": "Python 3"
    },
    "language_info": {
      "name": "python"
    }
  },
  "cells": [
    {
      "cell_type": "code",
      "source": [
        "import pandas as pd\n",
        "import seaborn as sns\n",
        "import numpy as np\n",
        "import matplotlib.pyplot as plt\n"
      ],
      "metadata": {
        "id": "vHTwNwRrgkTA"
      },
      "execution_count": 2,
      "outputs": []
    },
    {
      "cell_type": "markdown",
      "source": [
        "Question 3 Compare APRs for individual sports, with one visualization for Men's and another for Women's. Comment on the major finding(s)."
      ],
      "metadata": {
        "id": "7v-8tFrPgIR1"
      }
    },
    {
      "cell_type": "markdown",
      "source": [
        "**Answer:**\n",
        "**Similarity:** Women and men who ski get relatively higher APR.\n",
        "***Differences:*** Women's ski, golf and sandvolleyball get high APR, for which the median number is almost 1000.\n",
        "Only men's skiing gets such a high APR score."
      ],
      "metadata": {
        "id": "RuNVXz9Qpzu3"
      }
    },
    {
      "cell_type": "code",
      "source": [
        "url = \"https://ncaaorg.s3.amazonaws.com/research/academics/2020RES_APR2019PubDataShare.csv\"\n",
        "df = pd.read_csv(url)"
      ],
      "metadata": {
        "id": "y7sfUWlSgnyh"
      },
      "execution_count": 3,
      "outputs": []
    },
    {
      "cell_type": "code",
      "source": [
        "df_long = pd.melt(df, id_vars=\"SPORT_NAME\", value_vars=\"MULTIYR_APR_RATE_1000_OFFICIAL\",value_name=\"apr_value\")\n",
        "mask = df_long['SPORT_NAME'].str.contains('Men', case=True)\n",
        "df_men = df_long[mask]\n",
        "df_men_drop = df_men.drop(\"variable\", axis=1)\n",
        "df_men_drop"
      ],
      "metadata": {
        "colab": {
          "base_uri": "https://localhost:8080/",
          "height": 424
        },
        "id": "JU_lVx8MgqlN",
        "outputId": "89a486b4-87ff-4828-b5f8-d98b11aa63ad"
      },
      "execution_count": 8,
      "outputs": [
        {
          "output_type": "execute_result",
          "data": {
            "text/plain": [
              "                      SPORT_NAME  apr_value\n",
              "1               Men's Basketball      908.0\n",
              "3                     Men's Golf      946.0\n",
              "4                   Men's Tennis     1000.0\n",
              "5     Men's Track, Cross Country      866.0\n",
              "15              Men's Basketball      995.0\n",
              "...                          ...        ...\n",
              "6002            Men's Basketball      948.0\n",
              "6003         Men's Cross Country      985.0\n",
              "6005                  Men's Golf      993.0\n",
              "6006                Men's Tennis      986.0\n",
              "6007  Men's Track, Cross Country      973.0\n",
              "\n",
              "[2143 rows x 2 columns]"
            ],
            "text/html": [
              "\n",
              "  <div id=\"df-60a56181-01c1-4bc9-a177-796334041664\">\n",
              "    <div class=\"colab-df-container\">\n",
              "      <div>\n",
              "<style scoped>\n",
              "    .dataframe tbody tr th:only-of-type {\n",
              "        vertical-align: middle;\n",
              "    }\n",
              "\n",
              "    .dataframe tbody tr th {\n",
              "        vertical-align: top;\n",
              "    }\n",
              "\n",
              "    .dataframe thead th {\n",
              "        text-align: right;\n",
              "    }\n",
              "</style>\n",
              "<table border=\"1\" class=\"dataframe\">\n",
              "  <thead>\n",
              "    <tr style=\"text-align: right;\">\n",
              "      <th></th>\n",
              "      <th>SPORT_NAME</th>\n",
              "      <th>apr_value</th>\n",
              "    </tr>\n",
              "  </thead>\n",
              "  <tbody>\n",
              "    <tr>\n",
              "      <th>1</th>\n",
              "      <td>Men's Basketball</td>\n",
              "      <td>908.0</td>\n",
              "    </tr>\n",
              "    <tr>\n",
              "      <th>3</th>\n",
              "      <td>Men's Golf</td>\n",
              "      <td>946.0</td>\n",
              "    </tr>\n",
              "    <tr>\n",
              "      <th>4</th>\n",
              "      <td>Men's Tennis</td>\n",
              "      <td>1000.0</td>\n",
              "    </tr>\n",
              "    <tr>\n",
              "      <th>5</th>\n",
              "      <td>Men's Track, Cross Country</td>\n",
              "      <td>866.0</td>\n",
              "    </tr>\n",
              "    <tr>\n",
              "      <th>15</th>\n",
              "      <td>Men's Basketball</td>\n",
              "      <td>995.0</td>\n",
              "    </tr>\n",
              "    <tr>\n",
              "      <th>...</th>\n",
              "      <td>...</td>\n",
              "      <td>...</td>\n",
              "    </tr>\n",
              "    <tr>\n",
              "      <th>6002</th>\n",
              "      <td>Men's Basketball</td>\n",
              "      <td>948.0</td>\n",
              "    </tr>\n",
              "    <tr>\n",
              "      <th>6003</th>\n",
              "      <td>Men's Cross Country</td>\n",
              "      <td>985.0</td>\n",
              "    </tr>\n",
              "    <tr>\n",
              "      <th>6005</th>\n",
              "      <td>Men's Golf</td>\n",
              "      <td>993.0</td>\n",
              "    </tr>\n",
              "    <tr>\n",
              "      <th>6006</th>\n",
              "      <td>Men's Tennis</td>\n",
              "      <td>986.0</td>\n",
              "    </tr>\n",
              "    <tr>\n",
              "      <th>6007</th>\n",
              "      <td>Men's Track, Cross Country</td>\n",
              "      <td>973.0</td>\n",
              "    </tr>\n",
              "  </tbody>\n",
              "</table>\n",
              "<p>2143 rows × 2 columns</p>\n",
              "</div>\n",
              "      <button class=\"colab-df-convert\" onclick=\"convertToInteractive('df-60a56181-01c1-4bc9-a177-796334041664')\"\n",
              "              title=\"Convert this dataframe to an interactive table.\"\n",
              "              style=\"display:none;\">\n",
              "        \n",
              "  <svg xmlns=\"http://www.w3.org/2000/svg\" height=\"24px\"viewBox=\"0 0 24 24\"\n",
              "       width=\"24px\">\n",
              "    <path d=\"M0 0h24v24H0V0z\" fill=\"none\"/>\n",
              "    <path d=\"M18.56 5.44l.94 2.06.94-2.06 2.06-.94-2.06-.94-.94-2.06-.94 2.06-2.06.94zm-11 1L8.5 8.5l.94-2.06 2.06-.94-2.06-.94L8.5 2.5l-.94 2.06-2.06.94zm10 10l.94 2.06.94-2.06 2.06-.94-2.06-.94-.94-2.06-.94 2.06-2.06.94z\"/><path d=\"M17.41 7.96l-1.37-1.37c-.4-.4-.92-.59-1.43-.59-.52 0-1.04.2-1.43.59L10.3 9.45l-7.72 7.72c-.78.78-.78 2.05 0 2.83L4 21.41c.39.39.9.59 1.41.59.51 0 1.02-.2 1.41-.59l7.78-7.78 2.81-2.81c.8-.78.8-2.07 0-2.86zM5.41 20L4 18.59l7.72-7.72 1.47 1.35L5.41 20z\"/>\n",
              "  </svg>\n",
              "      </button>\n",
              "      \n",
              "  <style>\n",
              "    .colab-df-container {\n",
              "      display:flex;\n",
              "      flex-wrap:wrap;\n",
              "      gap: 12px;\n",
              "    }\n",
              "\n",
              "    .colab-df-convert {\n",
              "      background-color: #E8F0FE;\n",
              "      border: none;\n",
              "      border-radius: 50%;\n",
              "      cursor: pointer;\n",
              "      display: none;\n",
              "      fill: #1967D2;\n",
              "      height: 32px;\n",
              "      padding: 0 0 0 0;\n",
              "      width: 32px;\n",
              "    }\n",
              "\n",
              "    .colab-df-convert:hover {\n",
              "      background-color: #E2EBFA;\n",
              "      box-shadow: 0px 1px 2px rgba(60, 64, 67, 0.3), 0px 1px 3px 1px rgba(60, 64, 67, 0.15);\n",
              "      fill: #174EA6;\n",
              "    }\n",
              "\n",
              "    [theme=dark] .colab-df-convert {\n",
              "      background-color: #3B4455;\n",
              "      fill: #D2E3FC;\n",
              "    }\n",
              "\n",
              "    [theme=dark] .colab-df-convert:hover {\n",
              "      background-color: #434B5C;\n",
              "      box-shadow: 0px 1px 3px 1px rgba(0, 0, 0, 0.15);\n",
              "      filter: drop-shadow(0px 1px 2px rgba(0, 0, 0, 0.3));\n",
              "      fill: #FFFFFF;\n",
              "    }\n",
              "  </style>\n",
              "\n",
              "      <script>\n",
              "        const buttonEl =\n",
              "          document.querySelector('#df-60a56181-01c1-4bc9-a177-796334041664 button.colab-df-convert');\n",
              "        buttonEl.style.display =\n",
              "          google.colab.kernel.accessAllowed ? 'block' : 'none';\n",
              "\n",
              "        async function convertToInteractive(key) {\n",
              "          const element = document.querySelector('#df-60a56181-01c1-4bc9-a177-796334041664');\n",
              "          const dataTable =\n",
              "            await google.colab.kernel.invokeFunction('convertToInteractive',\n",
              "                                                     [key], {});\n",
              "          if (!dataTable) return;\n",
              "\n",
              "          const docLinkHtml = 'Like what you see? Visit the ' +\n",
              "            '<a target=\"_blank\" href=https://colab.research.google.com/notebooks/data_table.ipynb>data table notebook</a>'\n",
              "            + ' to learn more about interactive tables.';\n",
              "          element.innerHTML = '';\n",
              "          dataTable['output_type'] = 'display_data';\n",
              "          await google.colab.output.renderOutput(dataTable, element);\n",
              "          const docLink = document.createElement('div');\n",
              "          docLink.innerHTML = docLinkHtml;\n",
              "          element.appendChild(docLink);\n",
              "        }\n",
              "      </script>\n",
              "    </div>\n",
              "  </div>\n",
              "  "
            ]
          },
          "metadata": {},
          "execution_count": 8
        }
      ]
    },
    {
      "cell_type": "code",
      "source": [
        "# Set the plot size\n",
        "plt.figure(figsize=(42, 8))\n",
        "apr_men = sns.boxplot(data=df_men, x= \"SPORT_NAME\", y=\"apr_value\",medianprops={\"color\": \"coral\"}).set(title=\"Men's APR\")\n",
        "plt.gca().set_yticks(range(850, 1001, 50))\n",
        "plt.gca().set_xticks(range(0, 16))\n",
        "apr_men"
      ],
      "metadata": {
        "colab": {
          "base_uri": "https://localhost:8080/",
          "height": 406
        },
        "id": "dGU5rSM7iPRe",
        "outputId": "33218c1e-6a3e-4ec0-c1df-7cf2ebfe6d8b"
      },
      "execution_count": 16,
      "outputs": [
        {
          "output_type": "execute_result",
          "data": {
            "text/plain": [
              "[Text(0.5, 1.0, \"Men's APR\")]"
            ]
          },
          "metadata": {},
          "execution_count": 16
        },
        {
          "output_type": "display_data",
          "data": {
            "text/plain": [
              "<Figure size 3024x576 with 1 Axes>"
            ],
            "image/png": "[encoded data removed]"
          },
          "metadata": {
            "needs_background": "light"
          }
        }
      ]
    },
    {
      "cell_type": "code",
      "source": [
        "df_long = pd.melt(df, id_vars=\"SPORT_NAME\", value_vars=\"MULTIYR_APR_RATE_1000_OFFICIAL\",value_name=\"apr_value\")\n",
        "mask = df_long['SPORT_NAME'].str.contains('Women', case=True)\n",
        "df_women = df_long[mask]\n",
        "df_drop_women = df_women.drop(\"variable\", axis=1)\n",
        "df_drop_women"
      ],
      "metadata": {
        "colab": {
          "base_uri": "https://localhost:8080/",
          "height": 424
        },
        "id": "8KhEYHHxiENO",
        "outputId": "5fbfa450-11e2-4a14-e921-5b597db9aa41"
      },
      "execution_count": 9,
      "outputs": [
        {
          "output_type": "execute_result",
          "data": {
            "text/plain": [
              "                        SPORT_NAME  apr_value\n",
              "6               Women's Basketball      934.0\n",
              "7                  Women's Bowling     1000.0\n",
              "8            Women's Cross Country      942.0\n",
              "9                 Women's Softball      985.0\n",
              "10                  Women's Soccer      918.0\n",
              "...                            ...        ...\n",
              "6012              Women's Softball      988.0\n",
              "6013                Women's Soccer      982.0\n",
              "6014                Women's Tennis     1000.0\n",
              "6015  Women's Track, Cross Country      986.0\n",
              "6016            Women's Volleyball     1000.0\n",
              "\n",
              "[3300 rows x 2 columns]"
            ],
            "text/html": [
              "\n",
              "  <div id=\"df-57b299d8-86eb-45e0-96cd-4864c8df3f8d\">\n",
              "    <div class=\"colab-df-container\">\n",
              "      <div>\n",
              "<style scoped>\n",
              "    .dataframe tbody tr th:only-of-type {\n",
              "        vertical-align: middle;\n",
              "    }\n",
              "\n",
              "    .dataframe tbody tr th {\n",
              "        vertical-align: top;\n",
              "    }\n",
              "\n",
              "    .dataframe thead th {\n",
              "        text-align: right;\n",
              "    }\n",
              "</style>\n",
              "<table border=\"1\" class=\"dataframe\">\n",
              "  <thead>\n",
              "    <tr style=\"text-align: right;\">\n",
              "      <th></th>\n",
              "      <th>SPORT_NAME</th>\n",
              "      <th>apr_value</th>\n",
              "    </tr>\n",
              "  </thead>\n",
              "  <tbody>\n",
              "    <tr>\n",
              "      <th>6</th>\n",
              "      <td>Women's Basketball</td>\n",
              "      <td>934.0</td>\n",
              "    </tr>\n",
              "    <tr>\n",
              "      <th>7</th>\n",
              "      <td>Women's Bowling</td>\n",
              "      <td>1000.0</td>\n",
              "    </tr>\n",
              "    <tr>\n",
              "      <th>8</th>\n",
              "      <td>Women's Cross Country</td>\n",
              "      <td>942.0</td>\n",
              "    </tr>\n",
              "    <tr>\n",
              "      <th>9</th>\n",
              "      <td>Women's Softball</td>\n",
              "      <td>985.0</td>\n",
              "    </tr>\n",
              "    <tr>\n",
              "      <th>10</th>\n",
              "      <td>Women's Soccer</td>\n",
              "      <td>918.0</td>\n",
              "    </tr>\n",
              "    <tr>\n",
              "      <th>...</th>\n",
              "      <td>...</td>\n",
              "      <td>...</td>\n",
              "    </tr>\n",
              "    <tr>\n",
              "      <th>6012</th>\n",
              "      <td>Women's Softball</td>\n",
              "      <td>988.0</td>\n",
              "    </tr>\n",
              "    <tr>\n",
              "      <th>6013</th>\n",
              "      <td>Women's Soccer</td>\n",
              "      <td>982.0</td>\n",
              "    </tr>\n",
              "    <tr>\n",
              "      <th>6014</th>\n",
              "      <td>Women's Tennis</td>\n",
              "      <td>1000.0</td>\n",
              "    </tr>\n",
              "    <tr>\n",
              "      <th>6015</th>\n",
              "      <td>Women's Track, Cross Country</td>\n",
              "      <td>986.0</td>\n",
              "    </tr>\n",
              "    <tr>\n",
              "      <th>6016</th>\n",
              "      <td>Women's Volleyball</td>\n",
              "      <td>1000.0</td>\n",
              "    </tr>\n",
              "  </tbody>\n",
              "</table>\n",
              "<p>3300 rows × 2 columns</p>\n",
              "</div>\n",
              "      <button class=\"colab-df-convert\" onclick=\"convertToInteractive('df-57b299d8-86eb-45e0-96cd-4864c8df3f8d')\"\n",
              "              title=\"Convert this dataframe to an interactive table.\"\n",
              "              style=\"display:none;\">\n",
              "        \n",
              "  <svg xmlns=\"http://www.w3.org/2000/svg\" height=\"24px\"viewBox=\"0 0 24 24\"\n",
              "       width=\"24px\">\n",
              "    <path d=\"M0 0h24v24H0V0z\" fill=\"none\"/>\n",
              "    <path d=\"M18.56 5.44l.94 2.06.94-2.06 2.06-.94-2.06-.94-.94-2.06-.94 2.06-2.06.94zm-11 1L8.5 8.5l.94-2.06 2.06-.94-2.06-.94L8.5 2.5l-.94 2.06-2.06.94zm10 10l.94 2.06.94-2.06 2.06-.94-2.06-.94-.94-2.06-.94 2.06-2.06.94z\"/><path d=\"M17.41 7.96l-1.37-1.37c-.4-.4-.92-.59-1.43-.59-.52 0-1.04.2-1.43.59L10.3 9.45l-7.72 7.72c-.78.78-.78 2.05 0 2.83L4 21.41c.39.39.9.59 1.41.59.51 0 1.02-.2 1.41-.59l7.78-7.78 2.81-2.81c.8-.78.8-2.07 0-2.86zM5.41 20L4 18.59l7.72-7.72 1.47 1.35L5.41 20z\"/>\n",
              "  </svg>\n",
              "      </button>\n",
              "      \n",
              "  <style>\n",
              "    .colab-df-container {\n",
              "      display:flex;\n",
              "      flex-wrap:wrap;\n",
              "      gap: 12px;\n",
              "    }\n",
              "\n",
              "    .colab-df-convert {\n",
              "      background-color: #E8F0FE;\n",
              "      border: none;\n",
              "      border-radius: 50%;\n",
              "      cursor: pointer;\n",
              "      display: none;\n",
              "      fill: #1967D2;\n",
              "      height: 32px;\n",
              "      padding: 0 0 0 0;\n",
              "      width: 32px;\n",
              "    }\n",
              "\n",
              "    .colab-df-convert:hover {\n",
              "      background-color: #E2EBFA;\n",
              "      box-shadow: 0px 1px 2px rgba(60, 64, 67, 0.3), 0px 1px 3px 1px rgba(60, 64, 67, 0.15);\n",
              "      fill: #174EA6;\n",
              "    }\n",
              "\n",
              "    [theme=dark] .colab-df-convert {\n",
              "      background-color: #3B4455;\n",
              "      fill: #D2E3FC;\n",
              "    }\n",
              "\n",
              "    [theme=dark] .colab-df-convert:hover {\n",
              "      background-color: #434B5C;\n",
              "      box-shadow: 0px 1px 3px 1px rgba(0, 0, 0, 0.15);\n",
              "      filter: drop-shadow(0px 1px 2px rgba(0, 0, 0, 0.3));\n",
              "      fill: #FFFFFF;\n",
              "    }\n",
              "  </style>\n",
              "\n",
              "      <script>\n",
              "        const buttonEl =\n",
              "          document.querySelector('#df-57b299d8-86eb-45e0-96cd-4864c8df3f8d button.colab-df-convert');\n",
              "        buttonEl.style.display =\n",
              "          google.colab.kernel.accessAllowed ? 'block' : 'none';\n",
              "\n",
              "        async function convertToInteractive(key) {\n",
              "          const element = document.querySelector('#df-57b299d8-86eb-45e0-96cd-4864c8df3f8d');\n",
              "          const dataTable =\n",
              "            await google.colab.kernel.invokeFunction('convertToInteractive',\n",
              "                                                     [key], {});\n",
              "          if (!dataTable) return;\n",
              "\n",
              "          const docLinkHtml = 'Like what you see? Visit the ' +\n",
              "            '<a target=\"_blank\" href=https://colab.research.google.com/notebooks/data_table.ipynb>data table notebook</a>'\n",
              "            + ' to learn more about interactive tables.';\n",
              "          element.innerHTML = '';\n",
              "          dataTable['output_type'] = 'display_data';\n",
              "          await google.colab.output.renderOutput(dataTable, element);\n",
              "          const docLink = document.createElement('div');\n",
              "          docLink.innerHTML = docLinkHtml;\n",
              "          element.appendChild(docLink);\n",
              "        }\n",
              "      </script>\n",
              "    </div>\n",
              "  </div>\n",
              "  "
            ]
          },
          "metadata": {},
          "execution_count": 9
        }
      ]
    },
    {
      "cell_type": "code",
      "source": [
        "# Set the plot size\n",
        "plt.figure(figsize=(42, 8))\n",
        "apr_women = sns.boxplot(data=df_women, x= \"SPORT_NAME\", y=\"apr_value\",medianprops={\"color\": \"coral\"}).set(title=\"Women's APR\")\n",
        "plt.gca().set_yticks(range(850, 1001, 50))\n",
        "plt.gca().set_xticks(range(0, 18))"
      ],
      "metadata": {
        "colab": {
          "base_uri": "https://localhost:8080/",
          "height": 701
        },
        "id": "IkphTQmqifVO",
        "outputId": "34ffad5a-57bb-4c2a-ace3-6a791254e387"
      },
      "execution_count": 15,
      "outputs": [
        {
          "output_type": "execute_result",
          "data": {
            "text/plain": [
              "[<matplotlib.axis.XTick at 0x7fa8cbb5ac40>,\n",
              " <matplotlib.axis.XTick at 0x7fa8cbb5ac10>,\n",
              " <matplotlib.axis.XTick at 0x7fa8cbb02220>,\n",
              " <matplotlib.axis.XTick at 0x7fa8cba36fd0>,\n",
              " <matplotlib.axis.XTick at 0x7fa8cb9c2520>,\n",
              " <matplotlib.axis.XTick at 0x7fa8cb9c2a30>,\n",
              " <matplotlib.axis.XTick at 0x7fa8cb9c2f40>,\n",
              " <matplotlib.axis.XTick at 0x7fa8cb9c7490>,\n",
              " <matplotlib.axis.XTick at 0x7fa8cb9c79a0>,\n",
              " <matplotlib.axis.XTick at 0x7fa8cb9c2640>,\n",
              " <matplotlib.axis.XTick at 0x7fa8cb9c7520>,\n",
              " <matplotlib.axis.XTick at 0x7fa8cb9c7eb0>,\n",
              " <matplotlib.axis.XTick at 0x7fa8cb9ce400>,\n",
              " <matplotlib.axis.XTick at 0x7fa8cb9ce910>,\n",
              " <matplotlib.axis.XTick at 0x7fa8cb9cee20>,\n",
              " <matplotlib.axis.XTick at 0x7fa8cb9d4370>,\n",
              " <matplotlib.axis.XTick at 0x7fa8cb9d4880>,\n",
              " <matplotlib.axis.XTick at 0x7fa8cb9d4d90>]"
            ]
          },
          "metadata": {},
          "execution_count": 15
        },
        {
          "output_type": "display_data",
          "data": {
            "text/plain": [
              "<Figure size 3024x576 with 1 Axes>"
            ],
            "image/png": "[encoded data removed]"
          },
          "metadata": {
            "needs_background": "light"
          }
        }
      ]
    }
  ]
}